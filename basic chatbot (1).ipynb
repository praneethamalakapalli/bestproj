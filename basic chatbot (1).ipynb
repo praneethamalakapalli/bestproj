{
 "cells": [
  {
   "cell_type": "code",
   "execution_count": 3,
   "id": "5eddc19f-19c7-4338-807d-98d3932f74fa",
   "metadata": {},
   "outputs": [
    {
     "name": "stdout",
     "output_type": "stream",
     "text": [
      "Hello! I'm Chatbot.Type 'bye' to exit.\n"
     ]
    },
    {
     "name": "stdin",
     "output_type": "stream",
     "text": [
      "You:  hi\n"
     ]
    },
    {
     "name": "stdout",
     "output_type": "stream",
     "text": [
      "chatbot:Hello! How can I help You?\n"
     ]
    },
    {
     "name": "stdin",
     "output_type": "stream",
     "text": [
      "You:  tell me \n"
     ]
    },
    {
     "name": "stdout",
     "output_type": "stream",
     "text": [
      "chat bot : sorry,I didn't understand that.\n"
     ]
    },
    {
     "name": "stdin",
     "output_type": "stream",
     "text": [
      "You:  bye\n"
     ]
    },
    {
     "name": "stdout",
     "output_type": "stream",
     "text": [
      "chatbot :Bye have a nice day\n"
     ]
    }
   ],
   "source": [
    "print(\"Hello! I'm Chatbot.Type 'bye' to exit.\")\n",
    "while True:\n",
    "    user_input=input(\"You: \").lower()\n",
    "    if user_input==\"hello\" or user_input==\"hi\":\n",
    "        print(\"chatbot:Hello! How can I help You?\")\n",
    "    elif user_input==\"how are you\":\n",
    "        print(\"ChatBot:I'm just a bot but I'm doing great! what about you?\")\n",
    "    elif user_input==\"what is your name\":\n",
    "        print(\"chatbot:I am basic chatbot using python\")\n",
    "    elif user_input==\"bye\":\n",
    "        print(\"chatbot :Bye have a nice day\")\n",
    "        break\n",
    "    else:\n",
    "        print(\"chat bot : sorry,I didn't understand that.\")\n",
    "        \n",
    "        \n",
    "    "
   ]
  },
  {
   "cell_type": "code",
   "execution_count": null,
   "id": "baac0729-10d0-437e-a06e-22875d28ead3",
   "metadata": {},
   "outputs": [],
   "source": []
  }
 ],
 "metadata": {
  "kernelspec": {
   "display_name": "Python [conda env:base] *",
   "language": "python",
   "name": "conda-base-py"
  },
  "language_info": {
   "codemirror_mode": {
    "name": "ipython",
    "version": 3
   },
   "file_extension": ".py",
   "mimetype": "text/x-python",
   "name": "python",
   "nbconvert_exporter": "python",
   "pygments_lexer": "ipython3",
   "version": "3.11.7"
  }
 },
 "nbformat": 4,
 "nbformat_minor": 5
}
