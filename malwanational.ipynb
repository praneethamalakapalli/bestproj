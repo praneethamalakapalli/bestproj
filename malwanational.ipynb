{
 "cells": [
  {
   "cell_type": "markdown",
   "id": "bba033d2-f87b-42c1-bc8c-bd4da7d97865",
   "metadata": {},
   "source": [
    "Dataset_Malawi_National_Football_Team_Matches dataset gather from kaagle and most important of kaagle is to provide various dataset which helps to pratice the machinrlearning"
   ]
  },
  {
   "cell_type": "code",
   "execution_count": 2,
   "id": "b3835d4b-1a3f-4c28-ad61-d7dfd4883096",
   "metadata": {},
   "outputs": [],
   "source": [
    "import numpy as np\n",
    "import pandas as pd\n",
    "import matplotlib.pyplot as plt\n",
    "import seaborn as sns"
   ]
  },
  {
   "cell_type": "markdown",
   "id": "1c3635b3-0a31-4f7a-a456-f953ea016876",
   "metadata": {},
   "source": [
    "data set proprocessed"
   ]
  },
  {
   "cell_type": "code",
   "execution_count": 45,
   "id": "c9ac0bc9-fe0a-4350-8e07-eacdef05f77c",
   "metadata": {},
   "outputs": [],
   "source": [
    "df=pd.read_csv('Dataset_Malawi_National_Football_Team_Matches.csv')"
   ]
  },
  {
   "cell_type": "code",
   "execution_count": 47,
   "id": "c1e4b20a-fa89-4514-9616-3b2d570d644b",
   "metadata": {},
   "outputs": [
    {
     "data": {
      "text/html": [
       "<div>\n",
       "<style scoped>\n",
       "    .dataframe tbody tr th:only-of-type {\n",
       "        vertical-align: middle;\n",
       "    }\n",
       "\n",
       "    .dataframe tbody tr th {\n",
       "        vertical-align: top;\n",
       "    }\n",
       "\n",
       "    .dataframe thead th {\n",
       "        text-align: right;\n",
       "    }\n",
       "</style>\n",
       "<table border=\"1\" class=\"dataframe\">\n",
       "  <thead>\n",
       "    <tr style=\"text-align: right;\">\n",
       "      <th></th>\n",
       "      <th>Date</th>\n",
       "      <th>Opponent</th>\n",
       "      <th>Team Score</th>\n",
       "      <th>Opponent Score</th>\n",
       "      <th>Result</th>\n",
       "      <th>Venue</th>\n",
       "      <th>Competition</th>\n",
       "    </tr>\n",
       "  </thead>\n",
       "  <tbody>\n",
       "    <tr>\n",
       "      <th>0</th>\n",
       "      <td>~1957</td>\n",
       "      <td>Northern Rhodesia</td>\n",
       "      <td>0.0</td>\n",
       "      <td>5.0</td>\n",
       "      <td>Loss</td>\n",
       "      <td>Unknown</td>\n",
       "      <td>Friendly (First International)</td>\n",
       "    </tr>\n",
       "    <tr>\n",
       "      <th>1</th>\n",
       "      <td>~1962</td>\n",
       "      <td>Ghana</td>\n",
       "      <td>0.0</td>\n",
       "      <td>12.0</td>\n",
       "      <td>Loss</td>\n",
       "      <td>Unknown</td>\n",
       "      <td>Friendly</td>\n",
       "    </tr>\n",
       "    <tr>\n",
       "      <th>2</th>\n",
       "      <td>~1968</td>\n",
       "      <td>Botswana</td>\n",
       "      <td>8.0</td>\n",
       "      <td>1.0</td>\n",
       "      <td>Win</td>\n",
       "      <td>Unknown</td>\n",
       "      <td>Friendly</td>\n",
       "    </tr>\n",
       "    <tr>\n",
       "      <th>3</th>\n",
       "      <td>02/06/1996</td>\n",
       "      <td>South Africa</td>\n",
       "      <td>0.0</td>\n",
       "      <td>3.0</td>\n",
       "      <td>Loss</td>\n",
       "      <td>Away</td>\n",
       "      <td>World Cup Qualifier</td>\n",
       "    </tr>\n",
       "    <tr>\n",
       "      <th>4</th>\n",
       "      <td>07/07/1996</td>\n",
       "      <td>Zambia</td>\n",
       "      <td>1.0</td>\n",
       "      <td>1.0</td>\n",
       "      <td>Draw</td>\n",
       "      <td>Home</td>\n",
       "      <td>Friendly</td>\n",
       "    </tr>\n",
       "    <tr>\n",
       "      <th>...</th>\n",
       "      <td>...</td>\n",
       "      <td>...</td>\n",
       "      <td>...</td>\n",
       "      <td>...</td>\n",
       "      <td>...</td>\n",
       "      <td>...</td>\n",
       "      <td>...</td>\n",
       "    </tr>\n",
       "    <tr>\n",
       "      <th>68</th>\n",
       "      <td>14/11/2024</td>\n",
       "      <td>Burundi</td>\n",
       "      <td>0.0</td>\n",
       "      <td>0.0</td>\n",
       "      <td>Draw</td>\n",
       "      <td>Home</td>\n",
       "      <td>AFCON 2025 Qualifier</td>\n",
       "    </tr>\n",
       "    <tr>\n",
       "      <th>69</th>\n",
       "      <td>18/11/2024</td>\n",
       "      <td>Burkina Faso</td>\n",
       "      <td>0.0</td>\n",
       "      <td>1.0</td>\n",
       "      <td>Loss</td>\n",
       "      <td>Away</td>\n",
       "      <td>AFCON 2025 Qualifier</td>\n",
       "    </tr>\n",
       "    <tr>\n",
       "      <th>70</th>\n",
       "      <td>02/03/2025</td>\n",
       "      <td>Comoros</td>\n",
       "      <td>2.0</td>\n",
       "      <td>0.0</td>\n",
       "      <td>Win</td>\n",
       "      <td>Away</td>\n",
       "      <td>Friendly</td>\n",
       "    </tr>\n",
       "    <tr>\n",
       "      <th>71</th>\n",
       "      <td>20/03/2025</td>\n",
       "      <td>Namibia</td>\n",
       "      <td>0.0</td>\n",
       "      <td>1.0</td>\n",
       "      <td>Loss</td>\n",
       "      <td>Away</td>\n",
       "      <td>World Cup Qualifier</td>\n",
       "    </tr>\n",
       "    <tr>\n",
       "      <th>72</th>\n",
       "      <td>24/03/2025</td>\n",
       "      <td>Tunisia</td>\n",
       "      <td>NaN</td>\n",
       "      <td>NaN</td>\n",
       "      <td>TBD</td>\n",
       "      <td>Away</td>\n",
       "      <td>World Cup Qualifier</td>\n",
       "    </tr>\n",
       "  </tbody>\n",
       "</table>\n",
       "<p>73 rows × 7 columns</p>\n",
       "</div>"
      ],
      "text/plain": [
       "          Date           Opponent  Team Score  Opponent Score Result    Venue  \\\n",
       "0        ~1957  Northern Rhodesia         0.0             5.0   Loss  Unknown   \n",
       "1        ~1962              Ghana         0.0            12.0   Loss  Unknown   \n",
       "2        ~1968           Botswana         8.0             1.0    Win  Unknown   \n",
       "3   02/06/1996       South Africa         0.0             3.0   Loss     Away   \n",
       "4   07/07/1996             Zambia         1.0             1.0   Draw     Home   \n",
       "..         ...                ...         ...             ...    ...      ...   \n",
       "68  14/11/2024            Burundi         0.0             0.0   Draw     Home   \n",
       "69  18/11/2024       Burkina Faso         0.0             1.0   Loss     Away   \n",
       "70  02/03/2025            Comoros         2.0             0.0    Win     Away   \n",
       "71  20/03/2025            Namibia         0.0             1.0   Loss     Away   \n",
       "72  24/03/2025            Tunisia         NaN             NaN    TBD     Away   \n",
       "\n",
       "                       Competition  \n",
       "0   Friendly (First International)  \n",
       "1                         Friendly  \n",
       "2                         Friendly  \n",
       "3              World Cup Qualifier  \n",
       "4                         Friendly  \n",
       "..                             ...  \n",
       "68            AFCON 2025 Qualifier  \n",
       "69            AFCON 2025 Qualifier  \n",
       "70                        Friendly  \n",
       "71             World Cup Qualifier  \n",
       "72             World Cup Qualifier  \n",
       "\n",
       "[73 rows x 7 columns]"
      ]
     },
     "execution_count": 47,
     "metadata": {},
     "output_type": "execute_result"
    }
   ],
   "source": [
    "df"
   ]
  },
  {
   "cell_type": "code",
   "execution_count": 9,
   "id": "4349470d-fde9-43b0-b32c-aa252cf112ec",
   "metadata": {},
   "outputs": [
    {
     "data": {
      "text/html": [
       "<div>\n",
       "<style scoped>\n",
       "    .dataframe tbody tr th:only-of-type {\n",
       "        vertical-align: middle;\n",
       "    }\n",
       "\n",
       "    .dataframe tbody tr th {\n",
       "        vertical-align: top;\n",
       "    }\n",
       "\n",
       "    .dataframe thead th {\n",
       "        text-align: right;\n",
       "    }\n",
       "</style>\n",
       "<table border=\"1\" class=\"dataframe\">\n",
       "  <thead>\n",
       "    <tr style=\"text-align: right;\">\n",
       "      <th></th>\n",
       "      <th>Date</th>\n",
       "      <th>Opponent</th>\n",
       "      <th>Team Score</th>\n",
       "      <th>Opponent Score</th>\n",
       "      <th>Result</th>\n",
       "      <th>Venue</th>\n",
       "      <th>Competition</th>\n",
       "    </tr>\n",
       "  </thead>\n",
       "  <tbody>\n",
       "    <tr>\n",
       "      <th>0</th>\n",
       "      <td>~1957</td>\n",
       "      <td>Northern Rhodesia</td>\n",
       "      <td>0.0</td>\n",
       "      <td>5.0</td>\n",
       "      <td>Loss</td>\n",
       "      <td>Unknown</td>\n",
       "      <td>Friendly (First International)</td>\n",
       "    </tr>\n",
       "    <tr>\n",
       "      <th>1</th>\n",
       "      <td>~1962</td>\n",
       "      <td>Ghana</td>\n",
       "      <td>0.0</td>\n",
       "      <td>12.0</td>\n",
       "      <td>Loss</td>\n",
       "      <td>Unknown</td>\n",
       "      <td>Friendly</td>\n",
       "    </tr>\n",
       "    <tr>\n",
       "      <th>2</th>\n",
       "      <td>~1968</td>\n",
       "      <td>Botswana</td>\n",
       "      <td>8.0</td>\n",
       "      <td>1.0</td>\n",
       "      <td>Win</td>\n",
       "      <td>Unknown</td>\n",
       "      <td>Friendly</td>\n",
       "    </tr>\n",
       "    <tr>\n",
       "      <th>3</th>\n",
       "      <td>02/06/1996</td>\n",
       "      <td>South Africa</td>\n",
       "      <td>0.0</td>\n",
       "      <td>3.0</td>\n",
       "      <td>Loss</td>\n",
       "      <td>Away</td>\n",
       "      <td>World Cup Qualifier</td>\n",
       "    </tr>\n",
       "    <tr>\n",
       "      <th>4</th>\n",
       "      <td>07/07/1996</td>\n",
       "      <td>Zambia</td>\n",
       "      <td>1.0</td>\n",
       "      <td>1.0</td>\n",
       "      <td>Draw</td>\n",
       "      <td>Home</td>\n",
       "      <td>Friendly</td>\n",
       "    </tr>\n",
       "  </tbody>\n",
       "</table>\n",
       "</div>"
      ],
      "text/plain": [
       "         Date           Opponent  Team Score  Opponent Score Result    Venue  \\\n",
       "0       ~1957  Northern Rhodesia         0.0             5.0   Loss  Unknown   \n",
       "1       ~1962              Ghana         0.0            12.0   Loss  Unknown   \n",
       "2       ~1968           Botswana         8.0             1.0    Win  Unknown   \n",
       "3  02/06/1996       South Africa         0.0             3.0   Loss     Away   \n",
       "4  07/07/1996             Zambia         1.0             1.0   Draw     Home   \n",
       "\n",
       "                      Competition  \n",
       "0  Friendly (First International)  \n",
       "1                        Friendly  \n",
       "2                        Friendly  \n",
       "3             World Cup Qualifier  \n",
       "4                        Friendly  "
      ]
     },
     "execution_count": 9,
     "metadata": {},
     "output_type": "execute_result"
    }
   ],
   "source": [
    "data.head()"
   ]
  },
  {
   "cell_type": "code",
   "execution_count": 13,
   "id": "1c344bdf-c35e-4cc2-8a15-88b38a58e716",
   "metadata": {},
   "outputs": [
    {
     "name": "stdout",
     "output_type": "stream",
     "text": [
      "<class 'pandas.core.frame.DataFrame'>\n",
      "RangeIndex: 73 entries, 0 to 72\n",
      "Data columns (total 7 columns):\n",
      " #   Column          Non-Null Count  Dtype  \n",
      "---  ------          --------------  -----  \n",
      " 0   Date            73 non-null     object \n",
      " 1   Opponent        73 non-null     object \n",
      " 2   Team Score      72 non-null     float64\n",
      " 3   Opponent Score  72 non-null     float64\n",
      " 4   Result          73 non-null     object \n",
      " 5   Venue           73 non-null     object \n",
      " 6   Competition     73 non-null     object \n",
      "dtypes: float64(2), object(5)\n",
      "memory usage: 4.1+ KB\n"
     ]
    },
    {
     "data": {
      "text/html": [
       "<div>\n",
       "<style scoped>\n",
       "    .dataframe tbody tr th:only-of-type {\n",
       "        vertical-align: middle;\n",
       "    }\n",
       "\n",
       "    .dataframe tbody tr th {\n",
       "        vertical-align: top;\n",
       "    }\n",
       "\n",
       "    .dataframe thead th {\n",
       "        text-align: right;\n",
       "    }\n",
       "</style>\n",
       "<table border=\"1\" class=\"dataframe\">\n",
       "  <thead>\n",
       "    <tr style=\"text-align: right;\">\n",
       "      <th></th>\n",
       "      <th>Team Score</th>\n",
       "      <th>Opponent Score</th>\n",
       "    </tr>\n",
       "  </thead>\n",
       "  <tbody>\n",
       "    <tr>\n",
       "      <th>count</th>\n",
       "      <td>72.000000</td>\n",
       "      <td>72.000000</td>\n",
       "    </tr>\n",
       "    <tr>\n",
       "      <th>mean</th>\n",
       "      <td>0.833333</td>\n",
       "      <td>1.569444</td>\n",
       "    </tr>\n",
       "    <tr>\n",
       "      <th>std</th>\n",
       "      <td>1.342690</td>\n",
       "      <td>1.758892</td>\n",
       "    </tr>\n",
       "    <tr>\n",
       "      <th>min</th>\n",
       "      <td>0.000000</td>\n",
       "      <td>0.000000</td>\n",
       "    </tr>\n",
       "    <tr>\n",
       "      <th>25%</th>\n",
       "      <td>0.000000</td>\n",
       "      <td>0.000000</td>\n",
       "    </tr>\n",
       "    <tr>\n",
       "      <th>50%</th>\n",
       "      <td>0.000000</td>\n",
       "      <td>1.000000</td>\n",
       "    </tr>\n",
       "    <tr>\n",
       "      <th>75%</th>\n",
       "      <td>1.000000</td>\n",
       "      <td>2.000000</td>\n",
       "    </tr>\n",
       "    <tr>\n",
       "      <th>max</th>\n",
       "      <td>8.000000</td>\n",
       "      <td>12.000000</td>\n",
       "    </tr>\n",
       "  </tbody>\n",
       "</table>\n",
       "</div>"
      ],
      "text/plain": [
       "       Team Score  Opponent Score\n",
       "count   72.000000       72.000000\n",
       "mean     0.833333        1.569444\n",
       "std      1.342690        1.758892\n",
       "min      0.000000        0.000000\n",
       "25%      0.000000        0.000000\n",
       "50%      0.000000        1.000000\n",
       "75%      1.000000        2.000000\n",
       "max      8.000000       12.000000"
      ]
     },
     "execution_count": 13,
     "metadata": {},
     "output_type": "execute_result"
    }
   ],
   "source": [
    "data.tail()\n",
    "data.shape\n",
    "data.info()\n",
    "data.describe()\n"
   ]
  },
  {
   "cell_type": "code",
   "execution_count": 17,
   "id": "96d07abd-6a0a-4703-bbc2-9695493d90de",
   "metadata": {},
   "outputs": [
    {
     "data": {
      "text/plain": [
       "Date              0\n",
       "Opponent          0\n",
       "Team Score        1\n",
       "Opponent Score    1\n",
       "Result            0\n",
       "Venue             0\n",
       "Competition       0\n",
       "dtype: int64"
      ]
     },
     "execution_count": 17,
     "metadata": {},
     "output_type": "execute_result"
    }
   ],
   "source": [
    "data.isnull().sum()"
   ]
  },
  {
   "cell_type": "code",
   "execution_count": 19,
   "id": "a0b8d282-a063-49c6-a269-1f929fe87772",
   "metadata": {},
   "outputs": [
    {
     "data": {
      "text/plain": [
       "0.8333333333333334"
      ]
     },
     "execution_count": 19,
     "metadata": {},
     "output_type": "execute_result"
    }
   ],
   "source": [
    "data['Team Score'].mean()"
   ]
  },
  {
   "cell_type": "code",
   "execution_count": 25,
   "id": "fccc81b3-f4bd-4ddf-b0ca-d7d7b5d1f98f",
   "metadata": {},
   "outputs": [],
   "source": [
    "df=data.dropna()"
   ]
  },
  {
   "cell_type": "code",
   "execution_count": 27,
   "id": "5c49ef58-9bbd-4b75-89f6-7bf7cf47d46e",
   "metadata": {},
   "outputs": [
    {
     "data": {
      "text/plain": [
       "Date              0\n",
       "Opponent          0\n",
       "Team Score        0\n",
       "Opponent Score    0\n",
       "Result            0\n",
       "Venue             0\n",
       "Competition       0\n",
       "dtype: int64"
      ]
     },
     "execution_count": 27,
     "metadata": {},
     "output_type": "execute_result"
    }
   ],
   "source": [
    "df.isnull().sum()"
   ]
  },
  {
   "cell_type": "code",
   "execution_count": 29,
   "id": "07ef179e-8ffe-42e8-a8f1-812fb0d125eb",
   "metadata": {},
   "outputs": [],
   "source": [
    "data['Team Score'].fillna(data['Team Score'].mean(),inplace=True)"
   ]
  },
  {
   "cell_type": "code",
   "execution_count": 31,
   "id": "cbccc2a1-4eeb-4bff-948d-0d7ba62196c9",
   "metadata": {},
   "outputs": [
    {
     "data": {
      "text/plain": [
       "Date              0\n",
       "Opponent          0\n",
       "Team Score        0\n",
       "Opponent Score    1\n",
       "Result            0\n",
       "Venue             0\n",
       "Competition       0\n",
       "dtype: int64"
      ]
     },
     "execution_count": 31,
     "metadata": {},
     "output_type": "execute_result"
    }
   ],
   "source": [
    "data.isnull().sum()"
   ]
  },
  {
   "cell_type": "code",
   "execution_count": 33,
   "id": "8897438e-533a-45a6-acbb-1206c21f57f4",
   "metadata": {},
   "outputs": [],
   "source": [
    "data['Opponent Score'].fillna(data['Opponent Score'].mean(),inplace=True)"
   ]
  },
  {
   "cell_type": "code",
   "execution_count": 35,
   "id": "b4e0ad21-9cba-4b0b-9b3c-d4fde5efdd61",
   "metadata": {},
   "outputs": [
    {
     "data": {
      "text/plain": [
       "Date              0\n",
       "Opponent          0\n",
       "Team Score        0\n",
       "Opponent Score    0\n",
       "Result            0\n",
       "Venue             0\n",
       "Competition       0\n",
       "dtype: int64"
      ]
     },
     "execution_count": 35,
     "metadata": {},
     "output_type": "execute_result"
    }
   ],
   "source": [
    "data.isnull().sum()"
   ]
  },
  {
   "cell_type": "code",
   "execution_count": 49,
   "id": "3510f4f9-1f03-460e-850d-3c343460a303",
   "metadata": {},
   "outputs": [
    {
     "data": {
      "text/html": [
       "<div>\n",
       "<style scoped>\n",
       "    .dataframe tbody tr th:only-of-type {\n",
       "        vertical-align: middle;\n",
       "    }\n",
       "\n",
       "    .dataframe tbody tr th {\n",
       "        vertical-align: top;\n",
       "    }\n",
       "\n",
       "    .dataframe thead th {\n",
       "        text-align: right;\n",
       "    }\n",
       "</style>\n",
       "<table border=\"1\" class=\"dataframe\">\n",
       "  <thead>\n",
       "    <tr style=\"text-align: right;\">\n",
       "      <th></th>\n",
       "      <th>Date</th>\n",
       "      <th>Opponent</th>\n",
       "      <th>Team Score</th>\n",
       "      <th>Opponent Score</th>\n",
       "      <th>Result</th>\n",
       "      <th>Venue</th>\n",
       "      <th>Competition</th>\n",
       "    </tr>\n",
       "  </thead>\n",
       "  <tbody>\n",
       "    <tr>\n",
       "      <th>count</th>\n",
       "      <td>73</td>\n",
       "      <td>73.000000</td>\n",
       "      <td>72.000000</td>\n",
       "      <td>72.000000</td>\n",
       "      <td>73.000000</td>\n",
       "      <td>73.000000</td>\n",
       "      <td>73.000000</td>\n",
       "    </tr>\n",
       "    <tr>\n",
       "      <th>unique</th>\n",
       "      <td>73</td>\n",
       "      <td>NaN</td>\n",
       "      <td>NaN</td>\n",
       "      <td>NaN</td>\n",
       "      <td>NaN</td>\n",
       "      <td>NaN</td>\n",
       "      <td>NaN</td>\n",
       "    </tr>\n",
       "    <tr>\n",
       "      <th>top</th>\n",
       "      <td>~1957</td>\n",
       "      <td>NaN</td>\n",
       "      <td>NaN</td>\n",
       "      <td>NaN</td>\n",
       "      <td>NaN</td>\n",
       "      <td>NaN</td>\n",
       "      <td>NaN</td>\n",
       "    </tr>\n",
       "    <tr>\n",
       "      <th>freq</th>\n",
       "      <td>1</td>\n",
       "      <td>NaN</td>\n",
       "      <td>NaN</td>\n",
       "      <td>NaN</td>\n",
       "      <td>NaN</td>\n",
       "      <td>NaN</td>\n",
       "      <td>NaN</td>\n",
       "    </tr>\n",
       "    <tr>\n",
       "      <th>mean</th>\n",
       "      <td>NaN</td>\n",
       "      <td>17.232877</td>\n",
       "      <td>0.833333</td>\n",
       "      <td>1.569444</td>\n",
       "      <td>1.123288</td>\n",
       "      <td>0.493151</td>\n",
       "      <td>6.821918</td>\n",
       "    </tr>\n",
       "    <tr>\n",
       "      <th>std</th>\n",
       "      <td>NaN</td>\n",
       "      <td>9.470012</td>\n",
       "      <td>1.342690</td>\n",
       "      <td>1.758892</td>\n",
       "      <td>1.066474</td>\n",
       "      <td>0.580309</td>\n",
       "      <td>3.481469</td>\n",
       "    </tr>\n",
       "    <tr>\n",
       "      <th>min</th>\n",
       "      <td>NaN</td>\n",
       "      <td>0.000000</td>\n",
       "      <td>0.000000</td>\n",
       "      <td>0.000000</td>\n",
       "      <td>0.000000</td>\n",
       "      <td>0.000000</td>\n",
       "      <td>0.000000</td>\n",
       "    </tr>\n",
       "    <tr>\n",
       "      <th>25%</th>\n",
       "      <td>NaN</td>\n",
       "      <td>10.000000</td>\n",
       "      <td>0.000000</td>\n",
       "      <td>0.000000</td>\n",
       "      <td>0.000000</td>\n",
       "      <td>0.000000</td>\n",
       "      <td>4.000000</td>\n",
       "    </tr>\n",
       "    <tr>\n",
       "      <th>50%</th>\n",
       "      <td>NaN</td>\n",
       "      <td>16.000000</td>\n",
       "      <td>0.000000</td>\n",
       "      <td>1.000000</td>\n",
       "      <td>1.000000</td>\n",
       "      <td>0.000000</td>\n",
       "      <td>7.000000</td>\n",
       "    </tr>\n",
       "    <tr>\n",
       "      <th>75%</th>\n",
       "      <td>NaN</td>\n",
       "      <td>24.000000</td>\n",
       "      <td>1.000000</td>\n",
       "      <td>2.000000</td>\n",
       "      <td>1.000000</td>\n",
       "      <td>1.000000</td>\n",
       "      <td>11.000000</td>\n",
       "    </tr>\n",
       "    <tr>\n",
       "      <th>max</th>\n",
       "      <td>NaN</td>\n",
       "      <td>35.000000</td>\n",
       "      <td>8.000000</td>\n",
       "      <td>12.000000</td>\n",
       "      <td>3.000000</td>\n",
       "      <td>2.000000</td>\n",
       "      <td>11.000000</td>\n",
       "    </tr>\n",
       "  </tbody>\n",
       "</table>\n",
       "</div>"
      ],
      "text/plain": [
       "         Date   Opponent  Team Score  Opponent Score     Result      Venue  \\\n",
       "count      73  73.000000   72.000000       72.000000  73.000000  73.000000   \n",
       "unique     73        NaN         NaN             NaN        NaN        NaN   \n",
       "top     ~1957        NaN         NaN             NaN        NaN        NaN   \n",
       "freq        1        NaN         NaN             NaN        NaN        NaN   \n",
       "mean      NaN  17.232877    0.833333        1.569444   1.123288   0.493151   \n",
       "std       NaN   9.470012    1.342690        1.758892   1.066474   0.580309   \n",
       "min       NaN   0.000000    0.000000        0.000000   0.000000   0.000000   \n",
       "25%       NaN  10.000000    0.000000        0.000000   0.000000   0.000000   \n",
       "50%       NaN  16.000000    0.000000        1.000000   1.000000   0.000000   \n",
       "75%       NaN  24.000000    1.000000        2.000000   1.000000   1.000000   \n",
       "max       NaN  35.000000    8.000000       12.000000   3.000000   2.000000   \n",
       "\n",
       "        Competition  \n",
       "count     73.000000  \n",
       "unique          NaN  \n",
       "top             NaN  \n",
       "freq            NaN  \n",
       "mean       6.821918  \n",
       "std        3.481469  \n",
       "min        0.000000  \n",
       "25%        4.000000  \n",
       "50%        7.000000  \n",
       "75%       11.000000  \n",
       "max       11.000000  "
      ]
     },
     "execution_count": 49,
     "metadata": {},
     "output_type": "execute_result"
    }
   ],
   "source": [
    "from sklearn.preprocessing import LabelEncoder\n",
    "\n",
    "# Copy the DataFrame to preserve original\n",
    "df_encoded = df.copy()\n",
    "\n",
    "# List of categorical columns to encode (excluding Date for now)\n",
    "categorical_cols = ['Opponent', 'Result', 'Venue', 'Competition']\n",
    "\n",
    "# Apply Label Encoding\n",
    "label_encoders = {}\n",
    "for col in categorical_cols:\n",
    "    le = LabelEncoder()\n",
    "    df_encoded[col] = le.fit_transform(df_encoded[col].astype(str))\n",
    "    label_encoders[col] = le\n",
    "\n",
    "# Summary statistics of the encoded dataframe\n",
    "df_encoded.describe(include='all')\n",
    "\n"
   ]
  },
  {
   "cell_type": "code",
   "execution_count": 51,
   "id": "e5a4b282-de85-4f34-8bdd-27ecc475e881",
   "metadata": {},
   "outputs": [],
   "source": [
    "df_encoded = df_encoded.dropna()  # or use df_encoded.fillna(method='ffill') if preferred\n",
    "\n"
   ]
  },
  {
   "cell_type": "code",
   "execution_count": 53,
   "id": "8323b12f-c59d-4bd3-a584-8aaaddb9b480",
   "metadata": {},
   "outputs": [],
   "source": [
    "X = df_encoded.drop('Result', axis=1)\n",
    "y = df_encoded['Result']\n"
   ]
  },
  {
   "cell_type": "code",
   "execution_count": 55,
   "id": "2cf327de-a295-492b-9264-8a2f237a0166",
   "metadata": {},
   "outputs": [],
   "source": [
    "from sklearn.model_selection import train_test_split\n",
    "\n",
    "X_train, X_test, y_train, y_test = train_test_split(X, y, test_size=0.2, random_state=42)\n"
   ]
  },
  {
   "cell_type": "code",
   "execution_count": null,
   "id": "ea1467e6-5ed7-41e4-90b8-a9d80c72d5d0",
   "metadata": {},
   "outputs": [],
   "source": [
    "\n"
   ]
  },
  {
   "cell_type": "code",
   "execution_count": 59,
   "id": "69b1a578-4085-49a3-9546-02d1f68f22b8",
   "metadata": {},
   "outputs": [
    {
     "name": "stdout",
     "output_type": "stream",
     "text": [
      "Model Accuracy: 0.8\n"
     ]
    }
   ],
   "source": [
    "\n",
    "df_encoded = df_encoded.drop(columns=['Date'])\n",
    "\n",
    "\n",
    "X = df_encoded.drop('Result', axis=1)\n",
    "y = df_encoded['Result']\n",
    "\n",
    "from sklearn.model_selection import train_test_split\n",
    "X_train, X_test, y_train, y_test = train_test_split(X, y, test_size=0.2, random_state=42)\n",
    "\n",
    "\n",
    "from sklearn.ensemble import RandomForestClassifier\n",
    "model = RandomForestClassifier()\n",
    "model.fit(X_train, y_train)\n",
    "\n",
    "from sklearn.metrics import accuracy_score\n",
    "y_pred = model.predict(X_test)\n",
    "accuracy = accuracy_score(y_test, y_pred)\n",
    "print(\"Model Accuracy:\", accuracy)\n"
   ]
  },
  {
   "cell_type": "code",
   "execution_count": null,
   "id": "1ff6a000-7c1c-4c0b-85ae-a07ddc8075fb",
   "metadata": {},
   "outputs": [],
   "source": []
  },
  {
   "cell_type": "code",
   "execution_count": null,
   "id": "8f2e8060-a752-4c9f-95cd-86c6574a329a",
   "metadata": {},
   "outputs": [],
   "source": []
  }
 ],
 "metadata": {
  "kernelspec": {
   "display_name": "Python [conda env:base] *",
   "language": "python",
   "name": "conda-base-py"
  },
  "language_info": {
   "codemirror_mode": {
    "name": "ipython",
    "version": 3
   },
   "file_extension": ".py",
   "mimetype": "text/x-python",
   "name": "python",
   "nbconvert_exporter": "python",
   "pygments_lexer": "ipython3",
   "version": "3.11.7"
  }
 },
 "nbformat": 4,
 "nbformat_minor": 5
}
